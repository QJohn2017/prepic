{
 "cells": [
  {
   "cell_type": "code",
   "execution_count": 1,
   "metadata": {},
   "outputs": [],
   "source": [
    "from collections import namedtuple\n",
    "import unyt as u\n",
    "import numpy as np\n",
    "\n",
    "from prepic import lwfa"
   ]
  },
  {
   "cell_type": "code",
   "execution_count": 2,
   "metadata": {},
   "outputs": [],
   "source": [
    "Cetal = namedtuple(\n",
    "    \"Cetal\",\n",
    "    [\n",
    "        \"npe\",\n",
    "        \"kp\",\n",
    "        \"f_number\",\n",
    "        \"focal_distance\",\n",
    "        \"beam_diameter\",\n",
    "        \"w0\",\n",
    "        \"fwhm\",\n",
    "        \"zR\",\n",
    "        \"a0\",\n",
    "        \"ɛL\",\n",
    "        \"τL\",\n",
    "        \"intensity\",\n",
    "        \"power\",\n",
    "    ],\n",
    ")\n",
    "param = Cetal(\n",
    "    npe=1.5e18 / u.cm ** 3,\n",
    "    kp=0.2304711 * 1 / u.micrometer,\n",
    "    f_number=24.9912 * u.dimensionless,\n",
    "    focal_distance=3.2 * u.meter,\n",
    "    beam_diameter=128.045071 * u.mm,\n",
    "    w0=18 * u.micrometer,\n",
    "    fwhm=21.193380405278543 * u.micrometer,\n",
    "    zR=1.27234502 * u.mm,\n",
    "    a0=4.076967454355432 * u.dimensionless,\n",
    "        ɛL=7.7 * u.joule,\n",
    "    τL=40 * u.femtosecond,\n",
    "    intensity=3.553314404474785e19 * u.watt / u.cm ** 2,\n",
    "    power=180.84167614968285 * u.terawatt,\n",
    ")"
   ]
  },
  {
   "cell_type": "code",
   "execution_count": 3,
   "metadata": {},
   "outputs": [
    {
     "data": {
      "text/plain": [
       "<Plasma(1.5e+18 cm**(-3), <Laser(7.7 J, 39.99999999999999 fs, <GaussianBeam(18.0 µm, 0.8 µm)>)>, 17.521938162559955 sqrt(dimensionless)*µm)>"
      ]
     },
     "execution_count": 3,
     "metadata": {},
     "output_type": "execute_result"
    }
   ],
   "source": [
    "def get_plasma(parameters):\n",
    "    bubble_r = (2 * np.sqrt(parameters.a0) / parameters.kp)\n",
    "\n",
    "    return lwfa.Plasma(\n",
    "        n_pe=parameters.npe,\n",
    "        laser=lwfa.Laser.from_a0(\n",
    "            a0=parameters.a0, ɛL=parameters.ɛL, beam=lwfa.GaussianBeam(w0=parameters.w0)\n",
    "        ),\n",
    "        bubble_radius=bubble_r\n",
    "    )\n",
    "cetal_plasma = get_plasma(param)\n",
    "cetal_plasma"
   ]
  }
 ],
 "metadata": {
  "kernelspec": {
   "display_name": "Python 3",
   "language": "python",
   "name": "python3"
  },
  "language_info": {
   "codemirror_mode": {
    "name": "ipython",
    "version": 3
   },
   "file_extension": ".py",
   "mimetype": "text/x-python",
   "name": "python",
   "nbconvert_exporter": "python",
   "pygments_lexer": "ipython3",
   "version": "3.6.8"
  }
 },
 "nbformat": 4,
 "nbformat_minor": 2
}