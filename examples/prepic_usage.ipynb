{
 "cells": [
  {
   "cell_type": "code",
   "execution_count": 1,
   "metadata": {},
   "outputs": [],
   "source": [
    "from collections import namedtuple\n",
    "import unyt as u\n",
    "import numpy as np\n",
    "\n",
    "from prepic import lwfa"
   ]
  },
  {
   "cell_type": "code",
   "execution_count": 2,
   "metadata": {},
   "outputs": [],
   "source": [
    "Flame = namedtuple(\n",
    "    \"Flame\",\n",
    "    [\n",
    "        \"npe\",  # electron plasma density\n",
    "        \"w0\",  # laser beam waist (Gaussian beam assumed)\n",
    "        \"ɛL\",  # laser energy on target (focused into the FWHM@intensity spot)\n",
    "        \"τL\",  # laser pulse duration (FWHM@intensity)\n",
    "        \"prop_dist\",  # laser propagation distance (acceleration length)\n",
    "    ],\n",
    ")\n",
    "param = Flame(\n",
    "    npe=6.14e18 / u.cm ** 3,\n",
    "    w0=6.94 * u.micrometer,\n",
    "    ɛL=1.0 * u.joule,\n",
    "    τL=30 * u.femtosecond,\n",
    "    prop_dist=1.18 * u.mm,\n",
    ")"
   ]
  },
  {
   "cell_type": "code",
   "execution_count": 3,
   "metadata": {},
   "outputs": [
    {
     "name": "stdout",
     "output_type": "stream",
     "text": [
      "beam with w0=6.9 µm (FWHM=8.2 µm), zᵣ=0.19 mm, λL=0.80 µm\n"
     ]
    }
   ],
   "source": [
    "flame_beam = lwfa.GaussianBeam(w0=param.w0)\n",
    "print(flame_beam)"
   ]
  },
  {
   "cell_type": "code",
   "execution_count": 4,
   "metadata": {},
   "outputs": [
    {
     "name": "stdout",
     "output_type": "stream",
     "text": [
      "laser beam with w0=6.9 µm (FWHM=8.2 µm), zᵣ=0.19 mm, λL=0.80 µm, kL=7.854 1/µm, ωL=2.355 1/fs, ɛL=1.0 J, τL=30.0 fs, P₀=31.3 TW\n",
      "I₀=4.1e+19 W/cm**2, a₀=4.4 dimensionless, E₀=1.8e+04 MV/mm\n"
     ]
    }
   ],
   "source": [
    "flame_laser = lwfa.Laser(\n",
    "    ɛL=param.ɛL, τL=param.τL, beam=flame_beam\n",
    ")\n",
    "print(flame_laser)"
   ]
  },
  {
   "cell_type": "code",
   "execution_count": 5,
   "metadata": {},
   "outputs": [
    {
     "name": "stdout",
     "output_type": "stream",
     "text": [
      "Plasma with nₚ=6.1e+18 cm**(-3) (3.52e-03 dimensionless nc), ωₚ=0.140 1/fs, kₚ=0.466 1/µm, λₚ=13.5 µm, Ewb=238.3 MV/mm\n",
      "Pc=4.8 TW, Ldeph=1.70 mm, Ldepl=2.55 mm, ΔE=294.9 MeV over Lacc=1.18 mm\n",
      "for laser beam with w0=6.9 µm (FWHM=8.2 µm), zᵣ=0.19 mm, λL=0.80 µm, kL=7.854 1/µm, ωL=2.355 1/fs, ɛL=1.0 J, τL=30.0 fs, P₀=31.3 TW\n",
      "I₀=4.1e+19 W/cm**2, a₀=4.4 dimensionless, E₀=1.8e+04 MV/mm\n"
     ]
    }
   ],
   "source": [
    "flame_plasma = lwfa.Plasma(\n",
    "    n_pe=param.npe, laser=flame_laser, propagation_distance=param.prop_dist\n",
    ")\n",
    "print(flame_plasma)"
   ]
  },
  {
   "cell_type": "code",
   "execution_count": 6,
   "metadata": {},
   "outputs": [
    {
     "name": "stdout",
     "output_type": "stream",
     "text": [
      "bubble radius is 9.0 µm\n",
      "Plasma with nₚ=6.1e+18 cm**(-3) (3.52e-03 dimensionless nc), ωₚ=0.140 1/fs, kₚ=0.466 1/µm, λₚ=13.5 µm, Ewb=238.3 MV/mm\n",
      "Pc=4.8 TW, Ldeph=1.70 mm, Ldepl=2.55 mm, ΔE=294.9 MeV over Lacc=1.18 mm\n",
      "for laser beam with w0=6.9 µm (FWHM=8.2 µm), zᵣ=0.19 mm, λL=0.80 µm, kL=7.854 1/µm, ωL=2.355 1/fs, ɛL=1.0 J, τL=30.0 fs, P₀=31.3 TW\n",
      "I₀=4.1e+19 W/cm**2, a₀=4.4 dimensionless, E₀=1.8e+04 MV/mm\n",
      "N=1.9e+09 dimensionless electrons, Q=300.1 pC, η=0.089 dimensionless\n"
     ]
    }
   ],
   "source": [
    "bubble_r = (\n",
    "    2 * np.sqrt(flame_plasma.laser.a0) / flame_plasma.kp\n",
    ").to(\"micrometer\")\n",
    "print(f\"bubble radius is {bubble_r:.1f}\")\n",
    "\n",
    "new_plasma = lwfa.Plasma(\n",
    "    n_pe=param.npe,\n",
    "    laser=flame_laser,\n",
    "    bubble_radius=bubble_r,\n",
    "    propagation_distance=param.prop_dist,\n",
    ")\n",
    "print(new_plasma)"
   ]
  },
  {
   "cell_type": "code",
   "execution_count": 7,
   "metadata": {},
   "outputs": [
    {
     "name": "stdout",
     "output_type": "stream",
     "text": [
      "Plasma with nₚ=1.1e+18 cm**(-3) (6.06e-04 dimensionless nc), ωₚ=0.058 1/fs, kₚ=0.193 1/µm, λₚ=32.5 µm, Ewb=98.8 MV/mm\n",
      "Pc=28.0 TW, Ldeph=23.86 mm, Ldepl=23.86 mm, ΔE=2472.7 MeV over Lacc=23.86 mm\n",
      "for laser beam with w0=21.7 µm (FWHM=25.5 µm), zᵣ=1.85 mm, λL=0.80 µm, kL=7.854 1/µm, ωL=2.355 1/fs, ɛL=15.7 J, τL=48.2 fs, P₀=306.0 TW\n",
      "I₀=4.1e+19 W/cm**2, a₀=4.4 dimensionless, E₀=1.8e+04 MV/mm\n",
      "N=4.5e+09 dimensionless electrons, Q=723.7 pC, η=0.114 dimensionless\n"
     ]
    }
   ],
   "source": [
    "matched_flame = lwfa.matched_laser_plasma(a0=flame_plasma.laser.a0)\n",
    "print(matched_flame)"
   ]
  },
  {
   "cell_type": "code",
   "execution_count": 8,
   "metadata": {},
   "outputs": [
    {
     "name": "stdout",
     "output_type": "stream",
     "text": [
      "simulation with box size (53.9 µm)³, Δx=0.214 µm, Δy=0.214 µm, Δz=0.040 µm, nx=251, ny=251, nz=1347, 6.788988e+08 dimensionless macro-particles, 3.084700e+04 time steps\n"
     ]
    }
   ],
   "source": [
    "sim_flame = lwfa.Simulation(flame_plasma)\n",
    "print(sim_flame)"
   ]
  }
 ],
 "metadata": {
  "kernelspec": {
   "display_name": "Python 3",
   "language": "python",
   "name": "python3"
  },
  "language_info": {
   "codemirror_mode": {
    "name": "ipython",
    "version": 3
   },
   "file_extension": ".py",
   "mimetype": "text/x-python",
   "name": "python",
   "nbconvert_exporter": "python",
   "pygments_lexer": "ipython3",
   "version": "3.6.8"
  }
 },
 "nbformat": 4,
 "nbformat_minor": 2
}