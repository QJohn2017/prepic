{
 "cells": [
  {
   "cell_type": "code",
   "execution_count": 1,
   "metadata": {},
   "outputs": [],
   "source": [
    "from collections import namedtuple\n",
    "import unyt as u\n",
    "import numpy as np"
   ]
  },
  {
   "cell_type": "code",
   "execution_count": 2,
   "metadata": {},
   "outputs": [],
   "source": [
    "from prepic import lwfa"
   ]
  },
  {
   "cell_type": "code",
   "execution_count": 3,
   "metadata": {},
   "outputs": [],
   "source": [
    "Cetal = namedtuple(\n",
    "    \"Cetal\",\n",
    "    [\n",
    "        \"npe\",\n",
    "        \"kp\",\n",
    "        \"f_number\",\n",
    "        \"focal_distance\",\n",
    "        \"beam_diameter\",\n",
    "        \"w0\",\n",
    "        \"fwhm\",\n",
    "        \"zR\",\n",
    "        \"a0\",\n",
    "        \"ɛL\",\n",
    "        \"τL\",\n",
    "        \"intensity\",\n",
    "        \"power\",\n",
    "    ],\n",
    ")"
   ]
  },
  {
   "cell_type": "code",
   "execution_count": 4,
   "metadata": {},
   "outputs": [],
   "source": [
    "param = Cetal(\n",
    "    npe=1.5e18 / u.cm ** 3,\n",
    "    kp=0.2304711 * 1 / u.micrometer,\n",
    "    f_number=24.9912 * u.dimensionless,\n",
    "    focal_distance=3.2 * u.meter,\n",
    "    beam_diameter=128.045071 * u.mm,\n",
    "    w0=18 * u.micrometer,\n",
    "    fwhm=21.193380405278543 * u.micrometer,\n",
    "    zR=1.27234502 * u.mm,\n",
    "    a0=4.076967454355432 * u.dimensionless,\n",
    "    ɛL=7.7 * u.joule,\n",
    "    τL=40 * u.femtosecond,\n",
    "    intensity=3.553314404474785e19 * u.watt / u.cm ** 2,\n",
    "    power=180.84167614968285 * u.terawatt,\n",
    ")"
   ]
  },
  {
   "cell_type": "code",
   "execution_count": 5,
   "metadata": {},
   "outputs": [],
   "source": [
    "def get_plasma(parameters):\n",
    "    bubble_r = (2 * np.sqrt(parameters.a0) / parameters.kp)\n",
    "\n",
    "    return lwfa.Plasma(\n",
    "        n_pe=parameters.npe,\n",
    "        laser=lwfa.Laser.from_a0(\n",
    "            a0=parameters.a0, ɛL=parameters.ɛL, beam=lwfa.GaussianBeam(w0=parameters.w0)\n",
    "        ),\n",
    "        bubble_radius=bubble_r\n",
    "    )"
   ]
  },
  {
   "cell_type": "code",
   "execution_count": 6,
   "metadata": {},
   "outputs": [],
   "source": [
    "cetal_plasma = get_plasma(param)"
   ]
  },
  {
   "cell_type": "code",
   "execution_count": 32,
   "metadata": {},
   "outputs": [
    {
     "data": {
      "text/plain": [
       "<GaussianBeam(18.0 µm, 0.8 µm)>"
      ]
     },
     "execution_count": 32,
     "metadata": {},
     "output_type": "execute_result"
    }
   ],
   "source": [
    "cetal_plasma.laser.beam"
   ]
  },
  {
   "cell_type": "code",
   "execution_count": 20,
   "metadata": {},
   "outputs": [
    {
     "data": {
      "text/plain": [
       "unyt_quantity(16362.40354854, 'MV/mm')"
      ]
     },
     "execution_count": 20,
     "metadata": {},
     "output_type": "execute_result"
    }
   ],
   "source": [
    "cetal_plasma.laser.E0"
   ]
  },
  {
   "cell_type": "code",
   "execution_count": 23,
   "metadata": {},
   "outputs": [
    {
     "name": "stdout",
     "output_type": "stream",
     "text": [
      "Scaling laws valid up to a0c=67.1 dimensionless\n"
     ]
    }
   ],
   "source": [
    "match = lwfa.matched_laser_plasma(param.a0)"
   ]
  },
  {
   "cell_type": "code",
   "execution_count": 26,
   "metadata": {},
   "outputs": [
    {
     "data": {
      "text/plain": [
       "unyt_quantity(0.1228936, 'dimensionless')"
      ]
     },
     "execution_count": 26,
     "metadata": {},
     "output_type": "execute_result"
    }
   ],
   "source": [
    "match.η"
   ]
  },
  {
   "cell_type": "code",
   "execution_count": 28,
   "metadata": {},
   "outputs": [],
   "source": [
    "sim = lwfa.Simulation(cetal_plasma)"
   ]
  },
  {
   "cell_type": "code",
   "execution_count": 31,
   "metadata": {},
   "outputs": [
    {
     "data": {
      "text/plain": [
       "{'plasma': <Plasma(1.5e+18 cm**(-3), <Laser(7.7 J, 39.99999999999999 fs, <GaussianBeam(18.0 µm, 0.8 µm)>)>, 17.521938162559955 sqrt(dimensionless)*µm)>,\n",
       " 'L': unyt_quantity(109.04942675, 'µm'),\n",
       " 'ppc': 8,\n",
       " 'Δx': unyt_quantity(0.43389388, 'µm'),\n",
       " 'Δy': unyt_quantity(0.43389388, 'µm'),\n",
       " 'Δz': unyt_quantity(0.04, 'µm'),\n",
       " 'nx': 251,\n",
       " 'ny': 251,\n",
       " 'nz': 2726,\n",
       " 'npart': 1373925808,\n",
       " 'dt': unyt_quantity(0.13342564, 'fs'),\n",
       " 't_interact': unyt_quantity(45613.58478821, 'fs'),\n",
       " 'nstep': 341865}"
      ]
     },
     "execution_count": 31,
     "metadata": {},
     "output_type": "execute_result"
    }
   ],
   "source": [
    "sim.__dict__"
   ]
  },
  {
   "cell_type": "code",
   "execution_count": 34,
   "metadata": {},
   "outputs": [
    {
     "data": {
      "text/plain": [
       "unyt_quantity(109.04942675, 'µm')"
      ]
     },
     "execution_count": 34,
     "metadata": {},
     "output_type": "execute_result"
    }
   ],
   "source": [
    "sim.L"
   ]
  },
  {
   "cell_type": "code",
   "execution_count": 35,
   "metadata": {},
   "outputs": [
    {
     "data": {
      "text/plain": [
       "unyt_quantity(0.43389388, 'µm')"
      ]
     },
     "execution_count": 35,
     "metadata": {},
     "output_type": "execute_result"
    }
   ],
   "source": [
    "sim.Δx"
   ]
  },
  {
   "cell_type": "code",
   "execution_count": 36,
   "metadata": {},
   "outputs": [
    {
     "data": {
      "text/plain": [
       "unyt_quantity(0.04, 'µm')"
      ]
     },
     "execution_count": 36,
     "metadata": {},
     "output_type": "execute_result"
    }
   ],
   "source": [
    "sim.Δz"
   ]
  },
  {
   "cell_type": "code",
   "execution_count": 37,
   "metadata": {},
   "outputs": [
    {
     "data": {
      "text/plain": [
       "251"
      ]
     },
     "execution_count": 37,
     "metadata": {},
     "output_type": "execute_result"
    }
   ],
   "source": [
    "sim.nx"
   ]
  },
  {
   "cell_type": "code",
   "execution_count": 38,
   "metadata": {},
   "outputs": [
    {
     "data": {
      "text/plain": [
       "2726"
      ]
     },
     "execution_count": 38,
     "metadata": {},
     "output_type": "execute_result"
    }
   ],
   "source": [
    "sim.nz"
   ]
  },
  {
   "cell_type": "code",
   "execution_count": 39,
   "metadata": {},
   "outputs": [
    {
     "data": {
      "text/plain": [
       "1373925808"
      ]
     },
     "execution_count": 39,
     "metadata": {},
     "output_type": "execute_result"
    }
   ],
   "source": [
    "sim.npart"
   ]
  },
  {
   "cell_type": "code",
   "execution_count": 40,
   "metadata": {},
   "outputs": [
    {
     "data": {
      "text/plain": [
       "341865"
      ]
     },
     "execution_count": 40,
     "metadata": {},
     "output_type": "execute_result"
    }
   ],
   "source": [
    "sim.nstep"
   ]
  },
  {
   "cell_type": "code",
   "execution_count": null,
   "metadata": {},
   "outputs": [],
   "source": []
  }
 ],
 "metadata": {
  "kernelspec": {
   "display_name": "Python 3",
   "language": "python",
   "name": "python3"
  },
  "language_info": {
   "codemirror_mode": {
    "name": "ipython",
    "version": 3
   },
   "file_extension": ".py",
   "mimetype": "text/x-python",
   "name": "python",
   "nbconvert_exporter": "python",
   "pygments_lexer": "ipython3",
   "version": "3.6.8"
  }
 },
 "nbformat": 4,
 "nbformat_minor": 2
}
