{
 "cells": [
  {
   "cell_type": "code",
   "execution_count": 2,
   "metadata": {},
   "outputs": [],
   "source": [
    "from collections import namedtuple\n",
    "import unyt as u\n",
    "import numpy as np"
   ]
  },
  {
   "cell_type": "code",
   "execution_count": 6,
   "metadata": {},
   "outputs": [],
   "source": [
    "from prepic import lwfa"
   ]
  },
  {
   "cell_type": "code",
   "execution_count": 3,
   "metadata": {},
   "outputs": [],
   "source": [
    "Cetal = namedtuple(\n",
    "    \"Cetal\",\n",
    "    [\n",
    "        \"npe\",\n",
    "        \"kp\",\n",
    "        \"f_number\",\n",
    "        \"focal_distance\",\n",
    "        \"beam_diameter\",\n",
    "        \"w0\",\n",
    "        \"fwhm\",\n",
    "        \"zR\",\n",
    "        \"a0\",\n",
    "        \"ɛL\",\n",
    "        \"τL\",\n",
    "        \"intensity\",\n",
    "        \"power\",\n",
    "    ],\n",
    ")"
   ]
  },
  {
   "cell_type": "code",
   "execution_count": 4,
   "metadata": {},
   "outputs": [],
   "source": [
    "param = Cetal(\n",
    "    npe=1.5e18 / u.cm ** 3,\n",
    "    kp=0.2304711 * 1 / u.micrometer,\n",
    "    f_number=24.9912 * u.dimensionless,\n",
    "    focal_distance=3.2 * u.meter,\n",
    "    beam_diameter=128.045071 * u.mm,\n",
    "    w0=18 * u.micrometer,\n",
    "    fwhm=21.193380405278543 * u.micrometer,\n",
    "    zR=1.27234502 * u.mm,\n",
    "    a0=4.076967454355432 * u.dimensionless,\n",
    "    ɛL=7.7 * u.joule,\n",
    "    τL=40 * u.femtosecond,\n",
    "    intensity=3.553314404474785e19 * u.watt / u.cm ** 2,\n",
    "    power=180.84167614968285 * u.terawatt,\n",
    ")"
   ]
  },
  {
   "cell_type": "code",
   "execution_count": 5,
   "metadata": {},
   "outputs": [],
   "source": [
    "def get_plasma(parameters):\n",
    "    bubble_r = (2 * np.sqrt(parameters.a0) / parameters.kp)\n",
    "\n",
    "    return lwfa.Plasma(\n",
    "        n_pe=parameters.npe,\n",
    "        laser=lwfa.Laser.from_a0(\n",
    "            a0=parameters.a0, ɛL=parameters.ɛL, beam=lwfa.GaussianBeam(w0=parameters.w0)\n",
    "        ),\n",
    "        bubble_radius=bubble_r\n",
    "    )"
   ]
  },
  {
   "cell_type": "code",
   "execution_count": 6,
   "metadata": {},
   "outputs": [],
   "source": [
    "cetal_plasma = get_plasma(param)"
   ]
  },
  {
   "cell_type": "code",
   "execution_count": 32,
   "metadata": {},
   "outputs": [
    {
     "data": {
      "text/plain": [
       "<GaussianBeam(18.0 µm, 0.8 µm)>"
      ]
     },
     "execution_count": 32,
     "metadata": {},
     "output_type": "execute_result"
    }
   ],
   "source": [
    "cetal_plasma.laser.beam"
   ]
  },
  {
   "cell_type": "code",
   "execution_count": 20,
   "metadata": {},
   "outputs": [
    {
     "data": {
      "text/plain": [
       "unyt_quantity(16362.40354854, 'MV/mm')"
      ]
     },
     "execution_count": 20,
     "metadata": {},
     "output_type": "execute_result"
    }
   ],
   "source": [
    "cetal_plasma.laser.E0"
   ]
  },
  {
   "cell_type": "code",
   "execution_count": 23,
   "metadata": {},
   "outputs": [
    {
     "name": "stdout",
     "output_type": "stream",
     "text": [
      "Scaling laws valid up to a0c=67.1 dimensionless\n"
     ]
    }
   ],
   "source": [
    "match = lwfa.matched_laser_plasma(param.a0)"
   ]
  },
  {
   "cell_type": "code",
   "execution_count": 26,
   "metadata": {},
   "outputs": [
    {
     "data": {
      "text/plain": [
       "unyt_quantity(0.1228936, 'dimensionless')"
      ]
     },
     "execution_count": 26,
     "metadata": {},
     "output_type": "execute_result"
    }
   ],
   "source": [
    "match.η"
   ]
  },
  {
   "cell_type": "code",
   "execution_count": 28,
   "metadata": {},
   "outputs": [],
   "source": [
    "sim = lwfa.Simulation(cetal_plasma)"
   ]
  },
  {
   "cell_type": "code",
   "execution_count": 31,
   "metadata": {},
   "outputs": [
    {
     "data": {
      "text/plain": [
       "{'plasma': <Plasma(1.5e+18 cm**(-3), <Laser(7.7 J, 39.99999999999999 fs, <GaussianBeam(18.0 µm, 0.8 µm)>)>, 17.521938162559955 sqrt(dimensionless)*µm)>,\n",
       " 'L': unyt_quantity(109.04942675, 'µm'),\n",
       " 'ppc': 8,\n",
       " 'Δx': unyt_quantity(0.43389388, 'µm'),\n",
       " 'Δy': unyt_quantity(0.43389388, 'µm'),\n",
       " 'Δz': unyt_quantity(0.04, 'µm'),\n",
       " 'nx': 251,\n",
       " 'ny': 251,\n",
       " 'nz': 2726,\n",
       " 'npart': 1373925808,\n",
       " 'dt': unyt_quantity(0.13342564, 'fs'),\n",
       " 't_interact': unyt_quantity(45613.58478821, 'fs'),\n",
       " 'nstep': 341865}"
      ]
     },
     "execution_count": 31,
     "metadata": {},
     "output_type": "execute_result"
    }
   ],
   "source": [
    "sim.__dict__"
   ]
  },
  {
   "cell_type": "code",
   "execution_count": 34,
   "metadata": {},
   "outputs": [
    {
     "data": {
      "text/plain": [
       "unyt_quantity(109.04942675, 'µm')"
      ]
     },
     "execution_count": 34,
     "metadata": {},
     "output_type": "execute_result"
    }
   ],
   "source": [
    "sim.L"
   ]
  },
  {
   "cell_type": "code",
   "execution_count": 35,
   "metadata": {},
   "outputs": [
    {
     "data": {
      "text/plain": [
       "unyt_quantity(0.43389388, 'µm')"
      ]
     },
     "execution_count": 35,
     "metadata": {},
     "output_type": "execute_result"
    }
   ],
   "source": [
    "sim.Δx"
   ]
  },
  {
   "cell_type": "code",
   "execution_count": 36,
   "metadata": {},
   "outputs": [
    {
     "data": {
      "text/plain": [
       "unyt_quantity(0.04, 'µm')"
      ]
     },
     "execution_count": 36,
     "metadata": {},
     "output_type": "execute_result"
    }
   ],
   "source": [
    "sim.Δz"
   ]
  },
  {
   "cell_type": "code",
   "execution_count": 37,
   "metadata": {},
   "outputs": [
    {
     "data": {
      "text/plain": [
       "251"
      ]
     },
     "execution_count": 37,
     "metadata": {},
     "output_type": "execute_result"
    }
   ],
   "source": [
    "sim.nx"
   ]
  },
  {
   "cell_type": "code",
   "execution_count": 38,
   "metadata": {},
   "outputs": [
    {
     "data": {
      "text/plain": [
       "2726"
      ]
     },
     "execution_count": 38,
     "metadata": {},
     "output_type": "execute_result"
    }
   ],
   "source": [
    "sim.nz"
   ]
  },
  {
   "cell_type": "code",
   "execution_count": 39,
   "metadata": {},
   "outputs": [
    {
     "data": {
      "text/plain": [
       "1373925808"
      ]
     },
     "execution_count": 39,
     "metadata": {},
     "output_type": "execute_result"
    }
   ],
   "source": [
    "sim.npart"
   ]
  },
  {
   "cell_type": "code",
   "execution_count": 40,
   "metadata": {},
   "outputs": [
    {
     "data": {
      "text/plain": [
       "341865"
      ]
     },
     "execution_count": 40,
     "metadata": {},
     "output_type": "execute_result"
    }
   ],
   "source": [
    "sim.nstep"
   ]
  },
  {
   "cell_type": "code",
   "execution_count": null,
   "metadata": {},
   "outputs": [],
   "source": []
  },
  {
   "cell_type": "code",
   "execution_count": null,
   "metadata": {},
   "outputs": [],
   "source": []
  },
  {
   "cell_type": "markdown",
   "metadata": {},
   "source": [
    "1. gas-jet with $L_{\\text{acc}} = 3$ mm, $n_{\\text{pe}} = (1-3) \\times 10^{18}$ cm${}^{-3}$\n",
    "2. capillary with $L_{\\text{acc}} = (3-10)$ cm, $n_{\\text{pe}} = (3-7) \\times 10^{17}$ cm${}^{-3}$"
   ]
  },
  {
   "cell_type": "markdown",
   "metadata": {},
   "source": [
    "- $w_0 = 2 \\sigma_{\\text{rms}}$, and experiments say $\\sigma_{\\text{rms}} = 7$ $\\mu$m, so $w_0 = 14$ $\\mu$m\n",
    "- $\\varepsilon_L = 3$ J, $\\tau_L = 30$ fs, $I_0 = 3 \\times 10^{19}$ W/cm${}^{2}$, $a_0=3.4$"
   ]
  },
  {
   "cell_type": "code",
   "execution_count": 3,
   "metadata": {},
   "outputs": [],
   "source": [
    "npe_jet = 3e18 / u.cm ** 3\n",
    "l_acc_jet = 3 * u.mm\n",
    "#\n",
    "npe_capil = 3e17 / u.cm ** 3\n",
    "l_acc_capil = 5 * u.cm"
   ]
  },
  {
   "cell_type": "code",
   "execution_count": 7,
   "metadata": {},
   "outputs": [],
   "source": [
    "beam_frasc = lwfa.GaussianBeam(w0=15.56 * u.micrometer)\n",
    "laser_frasc = lwfa.Laser(ɛL=3.0 * u.joule, τL=30 * u.femtosecond, beam=beam_frasc)"
   ]
  },
  {
   "cell_type": "code",
   "execution_count": 17,
   "metadata": {},
   "outputs": [
    {
     "name": "stdout",
     "output_type": "stream",
     "text": [
      "Plasma with nₚ=3.0e+18 cm**(-3) (1.72e-03 dimensionless nc), ωₚ=0.098 1/fs, kₚ=0.326 1/µm, λₚ=19.3 µm, Ewb=166.6 MV/mm\n",
      "Pc=9.9 TW, Ldeph=4.38 mm, Ldepl=5.22 mm, ΔE=460.6 MeV over Lacc=3.00 mm\n",
      "for laser beam with w0=15.6 µm (FWHM=18.3 µm), zᵣ=0.95 mm, λL=0.80 µm, kL=7.854 1/µm, ωL=2.355 1/fs, ɛL=3.0 J, τL=30.0 fs, P₀=93.9 TW\n",
      "I₀=2.5e+19 W/cm**2, a₀=3.4 dimensionless, E₀=1.4e+04 MV/mm\n"
     ]
    }
   ],
   "source": [
    "plasma_jet = lwfa.Plasma(n_pe=npe_jet, laser=laser_frasc, propagation_distance=l_acc_jet)\n",
    "print(plasma_jet)"
   ]
  },
  {
   "cell_type": "code",
   "execution_count": 16,
   "metadata": {},
   "outputs": [
    {
     "name": "stdout",
     "output_type": "stream",
     "text": [
      "Plasma with nₚ=3.0e+17 cm**(-3) (1.72e-04 dimensionless nc), ωₚ=0.031 1/fs, kₚ=0.103 1/µm, λₚ=61.0 µm, Ewb=52.7 MV/mm\n",
      "Pc=98.7 TW, Ldeph=138.49 mm, Ldepl=52.22 mm, ΔE=2427.6 MeV over Lacc=50.00 mm\n",
      "for laser beam with w0=15.6 µm (FWHM=18.3 µm), zᵣ=0.95 mm, λL=0.80 µm, kL=7.854 1/µm, ωL=2.355 1/fs, ɛL=3.0 J, τL=30.0 fs, P₀=93.9 TW\n",
      "I₀=2.5e+19 W/cm**2, a₀=3.4 dimensionless, E₀=1.4e+04 MV/mm\n"
     ]
    }
   ],
   "source": [
    "plasma_capil = lwfa.Plasma(\n",
    "    n_pe=npe_capil, laser=laser_frasc, propagation_distance=l_acc_capil\n",
    ")\n",
    "print(plasma_capil)"
   ]
  },
  {
   "cell_type": "code",
   "execution_count": 11,
   "metadata": {},
   "outputs": [
    {
     "data": {
      "text/plain": [
       "<str(<Plasma(3e+18 cm**(-3), <Laser(3.0 J, 30.0 fs, <GaussianBeam(15.56 µm, 0.8 µm)>)>, None)>, 77.10958914102495 µm, 8 dimensionless)>"
      ]
     },
     "execution_count": 11,
     "metadata": {},
     "output_type": "execute_result"
    }
   ],
   "source": [
    "lwfa.Simulation(plasma_jet)"
   ]
  },
  {
   "cell_type": "code",
   "execution_count": 12,
   "metadata": {},
   "outputs": [
    {
     "data": {
      "text/plain": [
       "<str(<Plasma(3e+17 cm**(-3), <Laser(3.0 J, 30.0 fs, <GaussianBeam(15.56 µm, 0.8 µm)>)>, None)>, 243.84193112542548 µm, 8 dimensionless)>"
      ]
     },
     "execution_count": 12,
     "metadata": {},
     "output_type": "execute_result"
    }
   ],
   "source": [
    "lwfa.Simulation(plasma_capil)"
   ]
  },
  {
   "cell_type": "code",
   "execution_count": 15,
   "metadata": {},
   "outputs": [
    {
     "name": "stdout",
     "output_type": "stream",
     "text": [
      "Plasma with nₚ=3.8e+18 cm**(-3) (2.20e-03 dimensionless nc), ωₚ=0.110 1/fs, kₚ=0.368 1/µm, λₚ=17.1 µm, Ewb=188.3 MV/mm\n",
      "Pc=7.7 TW, Ldeph=3.03 mm, Ldepl=3.03 mm, ΔE=526.3 MeV over Lacc=3.03 mm\n",
      "for laser beam with w0=10.0 µm (FWHM=11.8 µm), zᵣ=0.39 mm, λL=0.80 µm, kL=7.854 1/µm, ωL=2.355 1/fs, ɛL=0.9 J, τL=22.3 fs, P₀=38.9 TW\n",
      "I₀=2.5e+19 W/cm**2, a₀=3.4 dimensionless, E₀=1.4e+04 MV/mm\n",
      "N=1.6e+09 dimensionless electrons, Q=258.0 pC, η=0.147 dimensionless\n"
     ]
    }
   ],
   "source": [
    "matched_frasc = lwfa.matched_laser_plasma(a0=3.4 * u.dimensionless)\n",
    "print(matched_frasc)"
   ]
  },
  {
   "cell_type": "code",
   "execution_count": null,
   "metadata": {},
   "outputs": [],
   "source": []
  }
 ],
 "metadata": {
  "kernelspec": {
   "display_name": "Python 3",
   "language": "python",
   "name": "python3"
  },
  "language_info": {
   "codemirror_mode": {
    "name": "ipython",
    "version": 3
   },
   "file_extension": ".py",
   "mimetype": "text/x-python",
   "name": "python",
   "nbconvert_exporter": "python",
   "pygments_lexer": "ipython3",
   "version": "3.6.8"
  }
 },
 "nbformat": 4,
 "nbformat_minor": 2
}
